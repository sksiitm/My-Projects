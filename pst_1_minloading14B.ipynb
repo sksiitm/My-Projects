{
 "cells": [
  {
   "cell_type": "code",
   "execution_count": 1,
   "id": "26c17bd0",
   "metadata": {},
   "outputs": [],
   "source": [
    "from IPython.core.interactiveshell import InteractiveShell\n",
    "InteractiveShell.ast_node_interactivity = 'all'\n",
    "import numpy as np\n",
    "import pandas as pd\n",
    "import cmath\n",
    "import math\n",
    "import time\n",
    "import  matplotlib.pyplot as plt\n",
    "Line=pd.read_csv(\"14_line.csv\")       # Reading Line data from csv file\n",
    "L=np.array(Line[\"L\"]).reshape(-1,1)   # Line Number\n",
    "F=np.array(Line[\"F\"]).reshape(-1,1)   # From Bus\n",
    "T=np.array(Line[\"T\"]).reshape(-1,1)   # To Bus\n",
    "LType=np.array(Line[\"Ltype\"]).reshape(-1,1)\n"
   ]
  },
  {
   "cell_type": "code",
   "execution_count": 2,
   "id": "c68a800f",
   "metadata": {},
   "outputs": [],
   "source": [
    "# Load Flow with PST\n",
    "def Load_Flow(X1,X2):\n",
    "    # Line Data Reading From CSV file\n",
    "    Line=pd.read_csv(\"14_line.csv\")       # Reading Line data from csv file\n",
    "    L=np.array(Line[\"L\"]).reshape(-1,1)   # Line Number\n",
    "    F=np.array(Line[\"F\"]).reshape(-1,1)   # From Bus\n",
    "    T=np.array(Line[\"T\"]).reshape(-1,1)   # To Bus\n",
    "    r=np.array(Line[\"R\"]).reshape(-1,1)   # Line Resistance in p.u.\n",
    "    x=np.array(Line[\"X\"]).reshape(-1,1)   # Line Reactace in p.u. \n",
    "    b1=np.array(Line[\"B\"]).reshape(-1,1)  # Half line charging admittance\n",
    "    tr=np.array(Line[\"tr\"]).reshape(-1,1)\n",
    "    LType=np.array(Line[\"Ltype\"]).reshape(-1,1)\n",
    "    Line_Lim=np.array(Line[\"Lim\"]).reshape(-1,1)\n",
    "    nbus=int(max(max(F),max(T)))          # Number of Buses\n",
    "    nL=len(F)                             # Number of Transmission Line\n",
    "    z=r+(0+1j)*x                          #  Line Impedances\n",
    "    y=np.reciprocal(z)                    # Line admittance\n",
    "\n",
    "    # formation of Smax matix\n",
    "    Smax=np.zeros([nbus,nbus],dtype=float)\n",
    "    for i in range(nL):\n",
    "        m=F[i]\n",
    "        n=T[i]\n",
    "        f1=np.where(F.flatten()==m)\n",
    "        f2=np.where(T.flatten()==n)\n",
    "        l1=np.intersect1d(f1,f2).item()\n",
    "        Smax[m-1,n-1]=Line_Lim[l1]  \n",
    "    # bus data Reading From CSV file\n",
    "    bus=pd.read_csv(\"14_bus.csv\")                       # Reading Bus data from csv file\n",
    "    Bus_No=np.array(bus[\"bus_no\"]).reshape(-1,1)        # Bus Number\n",
    "    Vm=np.array(bus[\"Vm\"]).reshape(-1,1).astype(float)  # Voltage Magnitude\n",
    "    Va=np.array(bus[\"Va\"]).reshape(-1,1).astype(float)  # Voltage Angle\n",
    "    Pg=np.array(bus[\"Pg\"]).reshape(-1,1).astype(float)/100  # Active Power Generation\n",
    "    Qg=np.array(bus[\"Qg\"]).reshape(-1,1).astype(float)/100  # Reactive Power Generation\n",
    "    Pl=np.array(bus[\"Pl\"]).reshape(-1,1).astype(float)/100  # Active Load\n",
    "    Ql=np.array(bus[\"Ql\"]).reshape(-1,1).astype(float)/100\n",
    "    Qmin=np.array(bus[\"Qmin\"]).reshape(-1,1).astype(float)/100\n",
    "    Qmax=np.array(bus[\"Qmax\"]).reshape(-1,1).astype(float)/100\n",
    "    # Reactive Load\n",
    "    Type=np.array(bus[\"Type\"]).reshape(-1) # Type of bus (1-slack),(2-PV),(3-PQ)\n",
    "    pq=np.array(np.where(Type==3)).reshape(-1).tolist() #  PQ Buses\n",
    "    pv=np.array(np.where(Type==2)).reshape(-1).tolist() #  PV Buses\n",
    "    # No of PQ Bus\n",
    "    npq=len(pq)\n",
    "    # No of PV Bus\n",
    "    npv=len(pv)\n",
    "    Psp=Pg-Pl\n",
    "    Qsp=Qg-Ql\n",
    "    \n",
    "    \n",
    "    x2=X2\n",
    "    # Formation of Ybus Matrix with PST\n",
    "    Ybus=np.asmatrix(np.zeros([nbus,nbus],dtype=complex))\n",
    "    t=cmath.rect(1,x2*math.pi/180)\n",
    "    W=np.where(L==X1)\n",
    "    # off Diagonal Elements\n",
    "    for k in range(nL):\n",
    "        # for PST\n",
    "        \n",
    "        if F[k]==F[W] and T[k]==T[W] and LType[k]==1:\n",
    "            Ybus[int(F[k])-1,int(T[k])-1]=-np.conj(t)*y[k]\n",
    "            Ybus[int(T[k])-1,int(F[k])-1]=-t*y[k]\n",
    "        # for Line and transformer\n",
    "        else:\n",
    "            Ybus[int(F[k])-1,int(T[k])-1]=-y[k]/tr[k]\n",
    "            Ybus[int(T[k])-1,int(F[k])-1]=-y[k]/tr[k]\n",
    "    # Diagonal Elements\n",
    "    # for line and transformer\n",
    "    for i in range(nbus):\n",
    "        for l in range(nL):\n",
    "            if F[l]==i+1:\n",
    "               Ybus[i,i]=Ybus[i,i]+y[l]/tr[l]**2+(0+1j)*b1[l]\n",
    "            elif T[l]==i+1:\n",
    "               Ybus[i,i]=Ybus[i,i]+y[l]+(0+1j)*b1[l]\n",
    "    # for PST\n",
    "    for k in range(nL):\n",
    "        if F[k]==F[W] and T[k]==T[W] and LType[k]==1:\n",
    "            Ybus[int(F[k])-1,int(F[k])-1]=Ybus[int(F[k])-1,int(F[k])-1]-(0+1j)*b1[k]\n",
    "            Ybus[int(T[k])-1,int(T[k])-1]=Ybus[int(T[k])-1,int(T[k])-1]-(0+1j)*b1[k]\n",
    "\n",
    "    Ym=abs(Ybus)\n",
    "    Ya=np.angle(Ybus)\n",
    "    # Newton Raphson \n",
    "    Iter=1\n",
    "    while True:\n",
    "        P=np.zeros([nbus,1])\n",
    "        Q=np.zeros([nbus,1])\n",
    "        for i in range(nbus):\n",
    "            for k in range(nbus):\n",
    "                P[i]=P[i]+Vm[i]*Vm[k]*Ym[i,k]*math.cos(Va[k]-Va[i]+Ya[i,k])\n",
    "                Q[i]=Q[i]-Vm[i]*Vm[k]*Ym[i,k]*math.sin(Va[k]-Va[i]+Ya[i,k])\n",
    "        # Checking Q Limit Voilations\n",
    "#         if Iter<=7 and Iter>2:\n",
    "#             for n in range(1,nbus):\n",
    "#                 if Type[n]==2:\n",
    "#                     QG=Q[n]+Ql[n]\n",
    "#                     if QG<Qmin[n]:\n",
    "#                         Vm[n]=Vm[n]+0.01\n",
    "#                     elif QG>Qmax[n]:\n",
    "#                         Vm[n]=Vm[n]-0.01\n",
    "\n",
    "        #power Injections\n",
    "        dPa=P-Psp\n",
    "        dQa=Q-Qsp\n",
    "        k=0\n",
    "        dQ=np.zeros([npq,1])\n",
    "        for i in range(nbus):\n",
    "            if Type[i]==3:\n",
    "                dQ[k]=dQa[i]\n",
    "                k=k+1\n",
    "        dP=dPa[1:]\n",
    "        Miss_Match=np.vstack((dP,dQ))\n",
    "\n",
    "        # Calculation of Jacobian Matrix\n",
    "        #Calculating J1\n",
    "        J1=np.zeros([nbus-1,nbus-1])\n",
    "        for i in range(nbus-1):\n",
    "            m=i+1\n",
    "            for j in range(nbus-1):\n",
    "                n=j+1\n",
    "                if n==m:\n",
    "                    for n in range(nbus):\n",
    "                        J1[i,j]=J1[i,j]+Vm[m]*Vm[n]*Ym[m,n]*math.sin(Va[n]-Va[m]+Ya[m,n])\n",
    "                    J1[i,j]=J1[i,j]-Vm[m]*Vm[m]*Ym[m,m]*math.sin(Ya[m,m])\n",
    "                else:\n",
    "                    J1[i,j]=-Vm[m]*Vm[n]*Ym[m,n]*math.sin(Va[n]-Va[m]+Ya[m,n])\n",
    "        #\n",
    "        # calulating J2          \n",
    "        J2=np.zeros([nbus-1,npq])\n",
    "        for i in range(nbus-1):\n",
    "            m=i+1\n",
    "            for k in range(npq):\n",
    "                n=pq[k]\n",
    "                if n==m:\n",
    "                    for n in range(nbus):\n",
    "                        J2[i,k]=J2[i,k]+Vm[n]*Ym[m,n]*math.cos(Va[n]-Va[m]+Ya[m,n])\n",
    "                    J2[i,k]=J2[i,k]+Vm[m]*Ym[m,m]*math.cos(Ya[m,m])\n",
    "                else:\n",
    "                    J2[i,k]=Vm[m]*Ym[m,n]*math.cos(Va[n]-Va[m]+Ya[m,n])\n",
    "        #\n",
    "        # Calculating J3\n",
    "        J3=np.zeros([npq,nbus-1])\n",
    "        for i in range(npq):\n",
    "            m=pq[i]\n",
    "            for k in range(nbus-1):\n",
    "                n=k+1\n",
    "                if n==m:\n",
    "                    for n in range(nbus):\n",
    "                        J3[i,k]=J3[i,k]+Vm[m]*Vm[n]*Ym[m,n]*math.cos(Va[n]-Va[m]+Ya[m,n])\n",
    "                    J3[i,k]=J3[i,k]-Vm[m]*Vm[m]*Ym[m,m]*math.cos(Ya[m,m])\n",
    "                else:\n",
    "                    J3[i,k]=-Vm[m]*Vm[n]*Ym[m,n]*math.cos(Va[n]-Va[m]+Ya[m,n])\n",
    "        #\n",
    "        #     # Calculating J4\n",
    "        J4=np.zeros([npq,npq])\n",
    "        for i in range(npq):\n",
    "            m=pq[i]\n",
    "            for k in range(npq):\n",
    "                n=pq[k]\n",
    "                if n==m:\n",
    "                    for n in range(nbus):\n",
    "                        J4[i,k]=J4[i,k]-Vm[n]*Ym[m,n]*math.sin(Va[n]-Va[m]+Ya[m,n])\n",
    "                    J4[i,k]=J4[i,k]-Vm[m]*Ym[m,m]*math.sin(Ya[m,m])\n",
    "                else:\n",
    "                    J4[i,k]=-Vm[m]*Ym[m,n]*math.sin(Va[n]-Va[m]+Ya[m,n])\n",
    "        #\n",
    "        # Final Jacobian Matrix\n",
    "        A=np.vstack((J1,J3))\n",
    "        B=np.vstack((J2,J4))\n",
    "        J=np.hstack((A,B))\n",
    "        # Chane in Angle And Voltages\n",
    "\n",
    "        dX=-np.dot(np.linalg.inv(J),Miss_Match)\n",
    "\n",
    "        #Updating Voltage Angle Value\n",
    "        dVa=dX[0:nbus-1]\n",
    "        dVm=dX[nbus-1:]\n",
    "        Va[1:]=Va[1:]+dVa\n",
    "        Va=np.vstack((Va[0],Va[1:]))\n",
    "\n",
    "        k=0\n",
    "        for i in range(1,nbus):\n",
    "            if Type[i]==3: # PQ bus\n",
    "                Vm[i]=dVm[k]+Vm[i]\n",
    "                k=k+1\n",
    "        #\n",
    "        Tol=max(abs(Miss_Match))\n",
    "        Iter=Iter+1\n",
    "        if Tol<0.00001 or Iter==10:\n",
    "            break\n",
    "\n",
    "    #combining magitude and voltages        \n",
    "    V=np.zeros([nbus,1],dtype=complex)\n",
    "    for i in range(nbus):\n",
    "        V[i]=cmath.rect(Vm[i],Va[i])\n",
    "    # Calculating Line current and Line Power Flows \n",
    "    Iij=np.zeros([nbus,nbus],dtype=complex)\n",
    "    Sij=np.zeros([nbus,nbus],dtype=complex)\n",
    "    gama=np.zeros([nbus,nbus],dtype=float)\n",
    "    Si=np.zeros([nbus,1],dtype=complex)\n",
    "    #Line Current Flows\n",
    "    for i in range(nL):\n",
    "        m=F[i]\n",
    "        n=T[i]\n",
    "        f1=np.where(F.flatten()==m)\n",
    "        f2=np.where(T.flatten()==n)\n",
    "        l1=np.intersect1d(f1,f2).item()\n",
    "        if m==F[W] and n==T[W]:\n",
    "            Iij[m-1,n-1]=cmath.rect(1,x2*math.pi/180)*(V[m-1]*cmath.rect(1,x2*math.pi/180)-V[n-1])*y[W]\n",
    "            \n",
    "        else:\n",
    "            Iij[m-1,n-1]=((V[m-1]/tr[l1]-V[n-1])*y[l1]+V[m-1]*(0+1j)*b1[l1])/tr[l1]\n",
    "            \n",
    "\n",
    "\n",
    "    #Line Power Flows\n",
    "    for i in range(nbus):\n",
    "        for j in range(nbus):\n",
    "            if i!=j:\n",
    "                Sij[i,j]=V[i]*np.conj(Iij[i,j])\n",
    "                \n",
    "    for i in range(nbus):\n",
    "        for j in range(nbus):\n",
    "            if i<j and abs(Sij[i,j])!=0 and Smax[i,j]!=0:\n",
    "                gama[i,j]=abs(Sij[i,j])/Smax[i,j]\n",
    "    for i in range(nbus):\n",
    "        for j in range(nbus):\n",
    "            if gama[i,j]>1:\n",
    "                gama[i,j]=gama[i,j]+100\n",
    "    \n",
    "    s=np.sum(gama**2) \n",
    "\n",
    "    Pij=Sij.real\n",
    "    Qij=Sij.imag\n",
    "\n",
    "\n",
    "#     df=pd.DataFrame(np.hstack((Bus_No,Vm,Va*180/math.pi,Pi*100,Qi*100,PG*100,QG*100,Pl*100,Ql*100)))\n",
    "#     df.columns = ['Bus_No','V_mag','V_ang','Pi','Qi','PG','QG','Pl','Ql']\n",
    "    Vm[1:]=np.ones([nbus-1,1])\n",
    "    Va=np.zeros([nbus,1])\n",
    "    return s\n",
    "\n"
   ]
  },
  {
   "cell_type": "code",
   "execution_count": 3,
   "id": "f9f43d60",
   "metadata": {},
   "outputs": [
    {
     "name": "stdout",
     "output_type": "stream",
     "text": [
      "Line Number:1\n",
      "From Bus:1\n",
      "To Bus:2\n",
      "PST Tap setting:-8\n",
      "Objective Function Value:5.901951749490558\n",
      "Total Execution Time is: 6.5351386070251465 Second\n"
     ]
    }
   ],
   "source": [
    "# Brute Force Algorithm\n",
    "start=time.time()\n",
    "tp=np.linspace(-10,10,21).astype('int')\n",
    "M=np.zeros([7,len(tp)])\n",
    "for i in range(7):\n",
    "    if LType[i]==1:\n",
    "        m=int(L[i])\n",
    "        for j in range(len(tp)):\n",
    "            n=int(tp[j])\n",
    "            M[i,j]=Load_Flow(m,n)\n",
    "    else:\n",
    "        for j in range(len(tp)):\n",
    "            M[i,j]=10000\n",
    "\n",
    "result=np.where(M==np.amin(M))\n",
    "a,b=result\n",
    "\n",
    "if M[int(a),int(b)]<10000:\n",
    "    Line_No=int(L[int(a)])\n",
    "    Tap_Pos=tp[int(b)]\n",
    "    print(\"Line Number:{}\".format(Line_No))\n",
    "    print(\"From Bus:{}\".format(int(F[int(a)])))\n",
    "    print(\"To Bus:{}\".format(int(T[int(a)])))\n",
    "    print(\"PST Tap setting:{}\".format(Tap_Pos))\n",
    "    print(\"Objective Function Value:{}\".format(M[int(a),int(b)]))\n",
    "else:\n",
    "    print(\"There is No Solution\")\n",
    "end= time.time()\n",
    "Time=(end-start)\n",
    "print(\"Total Execution Time is: {} Second\".format(Time))"
   ]
  },
  {
   "cell_type": "code",
   "execution_count": 2,
   "id": "ee032901",
   "metadata": {},
   "outputs": [
    {
     "data": {
      "text/plain": [
       "[<matplotlib.lines.Line2D at 0x1bae3cdd880>]"
      ]
     },
     "execution_count": 2,
     "metadata": {},
     "output_type": "execute_result"
    },
    {
     "data": {
      "text/plain": [
       "[<matplotlib.lines.Line2D at 0x1bae3cddca0>]"
      ]
     },
     "execution_count": 2,
     "metadata": {},
     "output_type": "execute_result"
    },
    {
     "data": {
      "text/plain": [
       "Text(0.5, 0, 'Lines')"
      ]
     },
     "execution_count": 2,
     "metadata": {},
     "output_type": "execute_result"
    },
    {
     "data": {
      "text/plain": [
       "Text(0, 0.5, 'Power Flows (p.u.)')"
      ]
     },
     "execution_count": 2,
     "metadata": {},
     "output_type": "execute_result"
    },
    {
     "data": {
      "text/plain": [
       "([<matplotlib.axis.XTick at 0x1bae3ca44f0>,\n",
       "  <matplotlib.axis.XTick at 0x1bae3ca44c0>,\n",
       "  <matplotlib.axis.XTick at 0x1bae3c940d0>,\n",
       "  <matplotlib.axis.XTick at 0x1bae43a35b0>,\n",
       "  <matplotlib.axis.XTick at 0x1bae43a3d00>,\n",
       "  <matplotlib.axis.XTick at 0x1bae43ac490>,\n",
       "  <matplotlib.axis.XTick at 0x1bae43acbe0>,\n",
       "  <matplotlib.axis.XTick at 0x1bae43ac4c0>,\n",
       "  <matplotlib.axis.XTick at 0x1bae43a3550>,\n",
       "  <matplotlib.axis.XTick at 0x1bae43b16d0>,\n",
       "  <matplotlib.axis.XTick at 0x1bae43b1e20>,\n",
       "  <matplotlib.axis.XTick at 0x1bae43b95b0>,\n",
       "  <matplotlib.axis.XTick at 0x1bae43b9d00>,\n",
       "  <matplotlib.axis.XTick at 0x1bae43be490>,\n",
       "  <matplotlib.axis.XTick at 0x1bae43b9610>,\n",
       "  <matplotlib.axis.XTick at 0x1bae43b18b0>,\n",
       "  <matplotlib.axis.XTick at 0x1bae43be130>,\n",
       "  <matplotlib.axis.XTick at 0x1bae43bed90>,\n",
       "  <matplotlib.axis.XTick at 0x1bae43c5520>,\n",
       "  <matplotlib.axis.XTick at 0x1bae43c5ca0>],\n",
       " [Text(0, 0, ' 1-2'),\n",
       "  Text(1, 0, ' 1-5'),\n",
       "  Text(2, 0, ' 2-3'),\n",
       "  Text(3, 0, ' 2-4'),\n",
       "  Text(4, 0, ' 2-5'),\n",
       "  Text(5, 0, ' 3-4'),\n",
       "  Text(6, 0, ' 4-5'),\n",
       "  Text(7, 0, ' 4-7'),\n",
       "  Text(8, 0, ' 4-9'),\n",
       "  Text(9, 0, ' 5-6'),\n",
       "  Text(10, 0, '6-11'),\n",
       "  Text(11, 0, ' 6-12'),\n",
       "  Text(12, 0, ' 6-13'),\n",
       "  Text(13, 0, ' 7-8'),\n",
       "  Text(14, 0, ' 7-9'),\n",
       "  Text(15, 0, '9-10'),\n",
       "  Text(16, 0, ' 9-14'),\n",
       "  Text(17, 0, ' 10-11'),\n",
       "  Text(18, 0, ' 12-13'),\n",
       "  Text(19, 0, ' 13-14')])"
      ]
     },
     "execution_count": 2,
     "metadata": {},
     "output_type": "execute_result"
    },
    {
     "data": {
      "text/plain": [
       "<matplotlib.lines.Line2D at 0x1bae3cdde80>"
      ]
     },
     "execution_count": 2,
     "metadata": {},
     "output_type": "execute_result"
    },
    {
     "data": {
      "text/plain": [
       "Text(1, 1.25, 'Power flow limit for line 1-2 ')"
      ]
     },
     "execution_count": 2,
     "metadata": {},
     "output_type": "execute_result"
    },
    {
     "data": {
      "text/plain": [
       "<matplotlib.legend.Legend at 0x1bae3ca46d0>"
      ]
     },
     "execution_count": 2,
     "metadata": {},
     "output_type": "execute_result"
    },
    {
     "data": {
      "text/plain": [
       "(array([ 0,  1,  2,  3,  4,  5,  6,  7,  8,  9, 10, 11, 12, 13, 14, 15, 16,\n",
       "        17, 18, 19]),\n",
       " [Text(0, 0, ' 1-2'),\n",
       "  Text(1, 0, ' 1-5'),\n",
       "  Text(2, 0, ' 2-3'),\n",
       "  Text(3, 0, ' 2-4'),\n",
       "  Text(4, 0, ' 2-5'),\n",
       "  Text(5, 0, ' 3-4'),\n",
       "  Text(6, 0, ' 4-5'),\n",
       "  Text(7, 0, ' 4-7'),\n",
       "  Text(8, 0, ' 4-9'),\n",
       "  Text(9, 0, ' 5-6'),\n",
       "  Text(10, 0, '6-11'),\n",
       "  Text(11, 0, ' 6-12'),\n",
       "  Text(12, 0, ' 6-13'),\n",
       "  Text(13, 0, ' 7-8'),\n",
       "  Text(14, 0, ' 7-9'),\n",
       "  Text(15, 0, '9-10'),\n",
       "  Text(16, 0, ' 9-14'),\n",
       "  Text(17, 0, ' 10-11'),\n",
       "  Text(18, 0, ' 12-13'),\n",
       "  Text(19, 0, ' 13-14')])"
      ]
     },
     "execution_count": 2,
     "metadata": {},
     "output_type": "execute_result"
    },
    {
     "data": {
      "image/png": "[encoded data removed]",
      "text/plain": [
       "<Figure size 432x288 with 1 Axes>"
      ]
     },
     "metadata": {
      "needs_background": "light"
     },
     "output_type": "display_data"
    }
   ],
   "source": [
    "pf=pd.read_csv(\"14_bus_pf.csv\") \n",
    "without_PST=np.array(pf[\"base\"])\n",
    "with_PST=np.array(pf[\"1pst\"])\n",
    "Line=np.array(pf[\"Line\"])\n",
    "bar1=np.arange(len(Line))\n",
    "plt.plot(bar1,without_PST, linestyle = 'dashed',marker='s',ms=4,label=\"Without PST\")\n",
    "plt.plot(bar1,with_PST, linestyle = 'dashed',marker='s',ms=4,label=\"With PST-1\")\n",
    "plt.xlabel(\"Lines\")\n",
    "plt.ylabel(\"Power Flows (p.u.)\")\n",
    "#plt.title(\"Line Flows\")\n",
    "plt.xticks(bar1,Line)\n",
    "plt.axhline(y = 1.2, color = 'Red', linestyle = 'dashed')\n",
    "plt.text(1, 1.25, 'Power flow limit for line 1-2 ', ha='left', va='center')\n",
    "plt.legend(loc=1)\n",
    "plt.xticks(rotation=60)\n",
    "plt.savefig(\"14_1_plot.pdf\",format=\"pdf\",bbox_inches=\"tight\")\n",
    "plt.show()"
   ]
  },
  {
   "cell_type": "code",
   "execution_count": 3,
   "id": "35a3fe4f",
   "metadata": {},
   "outputs": [
    {
     "data": {
      "text/plain": [
       "[<matplotlib.lines.Line2D at 0x1bae45329a0>]"
      ]
     },
     "execution_count": 3,
     "metadata": {},
     "output_type": "execute_result"
    },
    {
     "data": {
      "text/plain": [
       "[<matplotlib.lines.Line2D at 0x1bae4532df0>]"
      ]
     },
     "execution_count": 3,
     "metadata": {},
     "output_type": "execute_result"
    },
    {
     "data": {
      "text/plain": [
       "[<matplotlib.lines.Line2D at 0x1bae453e1c0>]"
      ]
     },
     "execution_count": 3,
     "metadata": {},
     "output_type": "execute_result"
    },
    {
     "data": {
      "text/plain": [
       "Text(0.5, 0, 'Lines')"
      ]
     },
     "execution_count": 3,
     "metadata": {},
     "output_type": "execute_result"
    },
    {
     "data": {
      "text/plain": [
       "Text(0, 0.5, 'Power Flows (p.u.)')"
      ]
     },
     "execution_count": 3,
     "metadata": {},
     "output_type": "execute_result"
    },
    {
     "data": {
      "text/plain": [
       "([<matplotlib.axis.XTick at 0x1bae450e5e0>,\n",
       "  <matplotlib.axis.XTick at 0x1bae450e5b0>,\n",
       "  <matplotlib.axis.XTick at 0x1bae4508040>,\n",
       "  <matplotlib.axis.XTick at 0x1bae453ea60>,\n",
       "  <matplotlib.axis.XTick at 0x1bae45481f0>,\n",
       "  <matplotlib.axis.XTick at 0x1bae4548940>,\n",
       "  <matplotlib.axis.XTick at 0x1bae45550d0>,\n",
       "  <matplotlib.axis.XTick at 0x1bae45488e0>,\n",
       "  <matplotlib.axis.XTick at 0x1bae4555100>,\n",
       "  <matplotlib.axis.XTick at 0x1bae4555b80>,\n",
       "  <matplotlib.axis.XTick at 0x1bae455b310>,\n",
       "  <matplotlib.axis.XTick at 0x1bae455ba60>,\n",
       "  <matplotlib.axis.XTick at 0x1bae45621f0>,\n",
       "  <matplotlib.axis.XTick at 0x1bae455bd90>,\n",
       "  <matplotlib.axis.XTick at 0x1bae4555be0>,\n",
       "  <matplotlib.axis.XTick at 0x1bae4562940>,\n",
       "  <matplotlib.axis.XTick at 0x1bae4562ee0>,\n",
       "  <matplotlib.axis.XTick at 0x1bae4569670>,\n",
       "  <matplotlib.axis.XTick at 0x1bae4569dc0>,\n",
       "  <matplotlib.axis.XTick at 0x1bae4570550>],\n",
       " [Text(0, 0, ' 1-2'),\n",
       "  Text(1, 0, ' 1-5'),\n",
       "  Text(2, 0, ' 2-3'),\n",
       "  Text(3, 0, ' 2-4'),\n",
       "  Text(4, 0, ' 2-5'),\n",
       "  Text(5, 0, ' 3-4'),\n",
       "  Text(6, 0, ' 4-5'),\n",
       "  Text(7, 0, ' 4-7'),\n",
       "  Text(8, 0, ' 4-9'),\n",
       "  Text(9, 0, ' 5-6'),\n",
       "  Text(10, 0, '6-11'),\n",
       "  Text(11, 0, ' 6-12'),\n",
       "  Text(12, 0, ' 6-13'),\n",
       "  Text(13, 0, ' 7-8'),\n",
       "  Text(14, 0, ' 7-9'),\n",
       "  Text(15, 0, '9-10'),\n",
       "  Text(16, 0, ' 9-14'),\n",
       "  Text(17, 0, ' 10-11'),\n",
       "  Text(18, 0, ' 12-13'),\n",
       "  Text(19, 0, ' 13-14')])"
      ]
     },
     "execution_count": 3,
     "metadata": {},
     "output_type": "execute_result"
    },
    {
     "data": {
      "text/plain": [
       "<matplotlib.lines.Line2D at 0x1bae453e3a0>"
      ]
     },
     "execution_count": 3,
     "metadata": {},
     "output_type": "execute_result"
    },
    {
     "data": {
      "text/plain": [
       "Text(1, 1.25, 'Power flow limit for line 1-2 ')"
      ]
     },
     "execution_count": 3,
     "metadata": {},
     "output_type": "execute_result"
    },
    {
     "data": {
      "text/plain": [
       "<matplotlib.legend.Legend at 0x1bae455ba00>"
      ]
     },
     "execution_count": 3,
     "metadata": {},
     "output_type": "execute_result"
    },
    {
     "data": {
      "text/plain": [
       "(array([ 0,  1,  2,  3,  4,  5,  6,  7,  8,  9, 10, 11, 12, 13, 14, 15, 16,\n",
       "        17, 18, 19]),\n",
       " [Text(0, 0, ' 1-2'),\n",
       "  Text(1, 0, ' 1-5'),\n",
       "  Text(2, 0, ' 2-3'),\n",
       "  Text(3, 0, ' 2-4'),\n",
       "  Text(4, 0, ' 2-5'),\n",
       "  Text(5, 0, ' 3-4'),\n",
       "  Text(6, 0, ' 4-5'),\n",
       "  Text(7, 0, ' 4-7'),\n",
       "  Text(8, 0, ' 4-9'),\n",
       "  Text(9, 0, ' 5-6'),\n",
       "  Text(10, 0, '6-11'),\n",
       "  Text(11, 0, ' 6-12'),\n",
       "  Text(12, 0, ' 6-13'),\n",
       "  Text(13, 0, ' 7-8'),\n",
       "  Text(14, 0, ' 7-9'),\n",
       "  Text(15, 0, '9-10'),\n",
       "  Text(16, 0, ' 9-14'),\n",
       "  Text(17, 0, ' 10-11'),\n",
       "  Text(18, 0, ' 12-13'),\n",
       "  Text(19, 0, ' 13-14')])"
      ]
     },
     "execution_count": 3,
     "metadata": {},
     "output_type": "execute_result"
    },
    {
     "data": {
      "image/png": "[encoded data removed]",
      "text/plain": [
       "<Figure size 432x288 with 1 Axes>"
      ]
     },
     "metadata": {
      "needs_background": "light"
     },
     "output_type": "display_data"
    }
   ],
   "source": [
    "pf=pd.read_csv(\"14_bus_pf.csv\") \n",
    "without_PST=np.array(pf[\"base\"])\n",
    "with_1_PST=np.array(pf[\"1pst\"])\n",
    "with_2_PST=np.array(pf[\"2pst\"])\n",
    "Line=np.array(pf[\"Line\"])\n",
    "bar1=np.arange(len(Line))\n",
    "plt.plot(bar1,without_PST, linestyle = 'dashed',marker='s',ms=4,label=\"Without PST\")\n",
    "plt.plot(bar1,with_1_PST, linestyle = 'dashed',marker='s',ms=4,label=\"With PST-1\")\n",
    "plt.plot(bar1,with_2_PST, linestyle = 'dashed',marker='s',ms=4,label=\"With PST-1 & PST-2\")\n",
    "plt.xlabel(\"Lines\")\n",
    "plt.ylabel(\"Power Flows (p.u.)\")\n",
    "#plt.title(\"Line Flows\")\n",
    "plt.xticks(bar1,Line)\n",
    "plt.axhline(y = 1.2, color = 'Red', linestyle = 'dashed')\n",
    "plt.text(1, 1.25, 'Power flow limit for line 1-2 ', ha='left', va='center')\n",
    "plt.legend(loc=1)\n",
    "plt.xticks(rotation=60)\n",
    "plt.savefig(\"14_12_plot.pdf\",format=\"pdf\",bbox_inches=\"tight\")\n",
    "plt.show()"
   ]
  },
  {
   "cell_type": "code",
   "execution_count": null,
   "id": "5f9a94d7",
   "metadata": {},
   "outputs": [],
   "source": []
  }
 ],
 "metadata": {
  "kernelspec": {
   "display_name": "Python 3 (ipykernel)",
   "language": "python",
   "name": "python3"
  },
  "language_info": {
   "codemirror_mode": {
    "name": "ipython",
    "version": 3
   },
   "file_extension": ".py",
   "mimetype": "text/x-python",
   "name": "python",
   "nbconvert_exporter": "python",
   "pygments_lexer": "ipython3",
   "version": "3.9.7"
  }
 },
 "nbformat": 4,
 "nbformat_minor": 5
}
